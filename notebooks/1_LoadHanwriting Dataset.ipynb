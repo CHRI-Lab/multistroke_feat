{
 "cells": [
  {
   "cell_type": "code",
   "execution_count": null,
   "metadata": {
    "colab": {},
    "colab_type": "code",
    "id": "CfD45EmCcJyN"
   },
   "outputs": [],
   "source": []
  },
  {
   "cell_type": "markdown",
   "metadata": {
    "colab_type": "text",
    "id": "toUsL-gpcWcP"
   },
   "source": [
    "## Init"
   ]
  },
  {
   "cell_type": "code",
   "execution_count": 4,
   "metadata": {
    "colab": {},
    "colab_type": "code",
    "id": "1n0bfDlkcZXV"
   },
   "outputs": [],
   "source": [
    "data_path= \"../data/uji/\""
   ]
  },
  {
   "cell_type": "code",
   "execution_count": 5,
   "metadata": {
    "colab": {},
    "colab_type": "code",
    "id": "eazD6vsGcwiN"
   },
   "outputs": [],
   "source": [
    "import base64, collections, io, itertools, functools, json, os, random, re, textwrap, time, urllib\n",
    "import numpy as np\n",
    "import pandas as pd\n",
    "import tensorflow as tf\n",
    "import matplotlib.pyplot as plt\n",
    "from PIL import Image, ImageDraw\n",
    "from IPython import display\n",
    "from six.moves.urllib import request\n",
    "from xml.dom import minidom\n",
    "import string\n",
    "\n",
    "from __future__ import division\n"
   ]
  },
  {
   "cell_type": "code",
   "execution_count": 7,
   "metadata": {
    "colab": {
     "base_uri": "https://localhost:8080/",
     "height": 90
    },
    "colab_type": "code",
    "executionInfo": {
     "elapsed": 95896,
     "status": "ok",
     "timestamp": 1552659451256,
     "user": {
      "displayName": "Wafa Johal",
      "photoUrl": "https://lh6.googleusercontent.com/-dSe4vNhtGJo/AAAAAAAAAAI/AAAAAAAAIHU/HpRPL_mjkKo/s64/photo.jpg",
      "userId": "02628719330545126296"
     },
     "user_tz": -60
    },
    "id": "mUWt_sfTc3Oi",
    "outputId": "4b7ce7e3-a3d4-459c-8b64-38922a105f25"
   },
   "outputs": [
    {
     "name": "stdout",
     "output_type": "stream",
     "text": [
      "uji2.names\t   ujipenchars2.txt\t ujipenchars_set.ndjson\n",
      "ujipenchars2.json  ujipenchars_set.json\n"
     ]
    }
   ],
   "source": [
    "# After executing the cell above, Drive\n",
    "# files will be present in \"/content/drive/My Drive\".\n",
    "!ls \"../data/uji/\""
   ]
  },
  {
   "cell_type": "markdown",
   "metadata": {
    "colab_type": "text",
    "id": "iXZO9vyedJyP"
   },
   "source": [
    "## Get the data"
   ]
  },
  {
   "cell_type": "code",
   "execution_count": 8,
   "metadata": {
    "colab": {},
    "colab_type": "code",
    "id": "bAoiTeQOdLHm"
   },
   "outputs": [],
   "source": [
    "with open(data_path+\"ujipenchars2.txt\") as f:\n",
    "    content = f.readlines()\n",
    "charList = list(string.ascii_letters)\n",
    "#charList = ['l','L','o','O','A','a','b','B','c','C']"
   ]
  },
  {
   "cell_type": "code",
   "execution_count": 9,
   "metadata": {
    "colab": {},
    "colab_type": "code",
    "id": "WAS0M3LIeZSj"
   },
   "outputs": [],
   "source": [
    "def parseUJIPEN(content,charList):\n",
    "  '''\n",
    "  Take file content and parse all instances of characters in charList \n",
    "  '''\n",
    "  currentCharacter = None\n",
    "  strokesLeft = 0\n",
    "  currentDigit = []\n",
    "  trainLibrary = {}\n",
    "  testLibrary = {}\n",
    "  writerCharacterCount = 0\n",
    "  \n",
    "  for line in content:\n",
    "    \n",
    "    if line.startswith('// ASCII char: '):\n",
    "      newChar = line[len('// ASCII char: ')]\n",
    "      if newChar in charList:\n",
    "        currentCharacter  = newChar\n",
    "        writerCharacterCount += 1\n",
    "        continue\n",
    "      currentCharacter = None\n",
    "      continue\n",
    "    \n",
    "    if currentCharacter != None:\n",
    "      \n",
    "      if line.startswith('  NUMSTROKES '):\n",
    "        strokesLeft = int(line[len('  NUMSTROKES ')])\n",
    "        continue\n",
    "      \n",
    "      if line.startswith('  POINTS '):\n",
    "        splitLine = line.split(' ')\n",
    "        #print(\"Stroke has points: \" + splitLine[3])\n",
    "        allCoordinates = splitLine[5:]\n",
    "        stroke = []\n",
    "        it = iter(allCoordinates)\n",
    "        \n",
    "        while True:\n",
    "          xString = next(it, None)\n",
    "          yString = next(it, None)\n",
    "          \n",
    "          if xString == None or yString == None:\n",
    "            break\n",
    "          \n",
    "          stroke.append( [int(xString), int(yString)] )\n",
    "        \n",
    "        currentDigit.append(stroke)\n",
    "        strokesLeft -= 1\n",
    "        if strokesLeft == 0:\n",
    "          # Add it to the library\n",
    "          \n",
    "          theLibrary = trainLibrary\n",
    "          \n",
    "          existingSamples = theLibrary.get(currentCharacter, None)\n",
    "          if existingSamples != None:\n",
    "            existingSamples.append(currentDigit)\n",
    "          else:\n",
    "            theLibrary[currentCharacter] = [currentDigit]\n",
    "          \n",
    "          currentDigit = []\n",
    "  return trainLibrary\n",
    "  "
   ]
  },
  {
   "cell_type": "code",
   "execution_count": 10,
   "metadata": {
    "colab": {
     "base_uri": "https://localhost:8080/",
     "height": 55
    },
    "colab_type": "code",
    "executionInfo": {
     "elapsed": 2008,
     "status": "ok",
     "timestamp": 1552659483656,
     "user": {
      "displayName": "Wafa Johal",
      "photoUrl": "https://lh6.googleusercontent.com/-dSe4vNhtGJo/AAAAAAAAAAI/AAAAAAAAIHU/HpRPL_mjkKo/s64/photo.jpg",
      "userId": "02628719330545126296"
     },
     "user_tz": -60
    },
    "id": "o74ms_fTlGEt",
    "outputId": "b5ea7ffb-ce0b-4caf-dd4a-99fcb461ac12"
   },
   "outputs": [
    {
     "data": {
      "text/plain": [
       "dict_keys(['a', 'b', 'c', 'd', 'e', 'f', 'g', 'h', 'i', 'j', 'k', 'l', 'm', 'n', 'o', 'p', 'q', 'r', 's', 't', 'u', 'v', 'w', 'x', 'y', 'z', 'A', 'B', 'C', 'D', 'E', 'F', 'G', 'H', 'I', 'J', 'K', 'L', 'M', 'N', 'O', 'P', 'Q', 'R', 'S', 'T', 'U', 'V', 'W', 'X', 'Y', 'Z'])"
      ]
     },
     "execution_count": 10,
     "metadata": {},
     "output_type": "execute_result"
    }
   ],
   "source": [
    "df = parseUJIPEN(content,charList)\n",
    "df.keys()"
   ]
  },
  {
   "cell_type": "code",
   "execution_count": 11,
   "metadata": {
    "colab": {},
    "colab_type": "code",
    "id": "Ob8TZ7dAu97S"
   },
   "outputs": [],
   "source": [
    "def plotGradient(x,y,MAP='plasma' ):\n",
    "    plt.title('Simple plot')\n",
    "    \n",
    "    cm = plt.get_cmap(MAP)\n",
    "    #plt.set_color_cycle([cm(1.*i/(len(x)-1)) for i in range(len(x)-1)])\n",
    "    for i in range(len(x)-1):\n",
    "        plt.plot(x[i:i+2],y[i:i+2])\n",
    "\n",
    "    #fig.savefig('gradColorLine.png')\n",
    "    plt.show()"
   ]
  },
  {
   "cell_type": "code",
   "execution_count": 12,
   "metadata": {
    "colab": {
     "base_uri": "https://localhost:8080/",
     "height": 695
    },
    "colab_type": "code",
    "executionInfo": {
     "elapsed": 1789,
     "status": "ok",
     "timestamp": 1552659488441,
     "user": {
      "displayName": "Wafa Johal",
      "photoUrl": "https://lh6.googleusercontent.com/-dSe4vNhtGJo/AAAAAAAAAAI/AAAAAAAAIHU/HpRPL_mjkKo/s64/photo.jpg",
      "userId": "02628719330545126296"
     },
     "user_tz": -60
    },
    "id": "IHxDqdWclJ3U",
    "outputId": "f5ffa462-0497-4f25-b2e3-9af6fe075cf2"
   },
   "outputs": [
    {
     "name": "stdout",
     "output_type": "stream",
     "text": [
      "2\n"
     ]
    },
    {
     "data": {
      "image/png": "[encoded data removed]",
      "text/plain": [
       "<Figure size 432x288 with 1 Axes>"
      ]
     },
     "metadata": {},
     "output_type": "display_data"
    },
    {
     "data": {
      "image/png": "[encoded data removed]",
      "text/plain": [
       "<Figure size 432x288 with 1 Axes>"
      ]
     },
     "metadata": {},
     "output_type": "display_data"
    }
   ],
   "source": [
    "test = df['B'][24]\n",
    "print(len(test))\n",
    "\n",
    "def findMinMax(letter): \n",
    "  xmin = min([row[0] for row in letter[0]])\n",
    "  ymin = min([row[1] for row in letter[0]])\n",
    "  xmax = max([row[0] for row in letter[0]])\n",
    "  ymax = max([row[1] for row in letter[0]])\n",
    "  for i in range(1,len(letter)): # for each stroke\n",
    "    x = [row[0] for row in letter[i]]\n",
    "    y = [row[1] for row in letter[i]]\n",
    "    \n",
    "    if min(x) < xmin : xmin = min(x) \n",
    "    if max(x) > xmax : xmax = max(x) \n",
    "    if min(y) < ymin : ymin = min(y) \n",
    "    if max(y) > ymax : ymax = max(y)\n",
    "  return {'xmin':xmin,'xmax':xmax,'ymin':ymin,'ymax':ymax}\n",
    "  \n",
    "\n",
    "def rescale(letter):\n",
    "  scaled_letter = [] \n",
    "  minmax = findMinMax(letter)\n",
    "  #print(minmax)\n",
    "  for i in range(0,len(letter)): # for each stroke\n",
    "    x = [row[0] for row in letter[i]]\n",
    "    y = [row[1] for row in letter[i]]\n",
    "    \n",
    "    #x = [(i - minmax['xmin'])/ (minmax['xmax']- minmax['xmin'])   for i in x]\n",
    "    #y = [(j - minmax['ymin'])/ (minmax['ymax']- minmax['ymin'])  for j in y]\n",
    "    \n",
    "    row = list(zip(x,y))\n",
    "    scaled_letter.append(row)\n",
    "  \n",
    "  return scaled_letter\n",
    "\n",
    "def plotLetter(letter):\n",
    "  for i in range(0,len(letter)):\n",
    "    x = [row[0] for row in letter[i]]\n",
    "    y = [row[1] for row in letter[i]]\n",
    "    plt.plot(x,y)\n",
    "def plotLetterRight(letter):\n",
    "  for i in range(0,len(letter)):\n",
    "    x = [row[0] for row in letter[i]]\n",
    "    y = [row[1] for row in letter[i]]\n",
    "    plt.plot(np.array(x),-np.array(y))\n",
    "\n",
    "plt.figure(0) \n",
    "plotLetterRight(test)\n",
    "\n",
    "test_sc = rescale(test)\n",
    "plt.figure(1)\n",
    "plotLetterRight(test_sc)"
   ]
  },
  {
   "cell_type": "code",
   "execution_count": null,
   "metadata": {
    "colab": {},
    "colab_type": "code",
    "id": "nkoehllQLc3c"
   },
   "outputs": [],
   "source": []
  },
  {
   "cell_type": "markdown",
   "metadata": {
    "colab_type": "text",
    "id": "57G4RAUELdas"
   },
   "source": [
    "## Save the scaled dataset"
   ]
  },
  {
   "cell_type": "code",
   "execution_count": 13,
   "metadata": {
    "colab": {
     "base_uri": "https://localhost:8080/",
     "height": 677
    },
    "colab_type": "code",
    "executionInfo": {
     "elapsed": 1691,
     "status": "ok",
     "timestamp": 1552553357308,
     "user": {
      "displayName": "Wafa Johal",
      "photoUrl": "https://lh6.googleusercontent.com/-dSe4vNhtGJo/AAAAAAAAAAI/AAAAAAAAIHU/HpRPL_mjkKo/s64/photo.jpg",
      "userId": "02628719330545126296"
     },
     "user_tz": -60
    },
    "id": "if_-UVdaLlEH",
    "outputId": "056f4ea8-38eb-4731-f0a2-17f76931928a"
   },
   "outputs": [
    {
     "data": {
      "image/png": "[encoded data removed]",
      "text/plain": [
       "<Figure size 432x288 with 1 Axes>"
      ]
     },
     "metadata": {},
     "output_type": "display_data"
    },
    {
     "data": {
      "image/png": "[encoded data removed]",
      "text/plain": [
       "<Figure size 432x288 with 1 Axes>"
      ]
     },
     "metadata": {},
     "output_type": "display_data"
    }
   ],
   "source": [
    "test = df['B'][24]\n",
    "plt.figure(0) \n",
    "plotLetterRight(test)\n",
    "\n",
    "for k in df.keys(): \n",
    "  for i in range(0,len(df[k])):\n",
    "    sample  = df[k][i]\n",
    "    df[k][i] = rescale(sample)\n",
    "    \n",
    "    \n",
    "test = df['B'][24]\n",
    "plt.figure(1) \n",
    "plotLetterRight(test)\n",
    "\n"
   ]
  },
  {
   "cell_type": "code",
   "execution_count": 14,
   "metadata": {
    "colab": {},
    "colab_type": "code",
    "id": "_cjha5knNj_T"
   },
   "outputs": [],
   "source": [
    "##### Save letters in same format as quickdraw drwaings\n",
    "\n",
    "filename = data_path+\"/ujipenchars_set.ndjson\"\n",
    "with open(filename, \"wt\") as fp:\n",
    "    \n",
    "  for k in df.keys():\n",
    "    for i in range(0,len(df[k])):\n",
    "      sample  = df[k][i]\n",
    "      d_sample = {'letter':k,'nb_stroke':len(sample),'l_id':k+str(i),\"drawing\":sample}\n",
    "      json.dump(d_sample, fp)\n",
    "      fp.write('\\n')\n",
    "\n",
    "    \n",
    "  \n"
   ]
  },
  {
   "cell_type": "code",
   "execution_count": 16,
   "metadata": {
    "colab": {},
    "colab_type": "code",
    "id": "D0FV2SmshBU0"
   },
   "outputs": [],
   "source": [
    "### save letters in individual files\n",
    "for k in df.keys():\n",
    "  filename = data_path+\"/no_scale/\"+k+\".ndjson\"\n",
    "  with open(filename, \"wt\") as fp:\n",
    "    for i in range(0,len(df[k])):\n",
    "      sample  = df[k][i]\n",
    "      d_sample = {'letter':k,'nb_stroke':len(sample),'l_id':k+str(i),\"drawing\":sample}\n",
    "      json.dump(d_sample, fp)\n",
    "      fp.write('\\n')"
   ]
  },
  {
   "cell_type": "code",
   "execution_count": 17,
   "metadata": {
    "colab": {},
    "colab_type": "code",
    "id": "0HfynPSJjsn8"
   },
   "outputs": [],
   "source": [
    "### save strokes in individual files\n",
    "for k in df.keys():\n",
    "  filename = data_path+\"no_scale/strokes/\"+k+\".ndjson\"\n",
    "  with open(filename, \"wt\") as fp:\n",
    "    for i in range(0,len(df[k])):\n",
    "      sample  = df[k][i]\n",
    "      d_sample = {'letter':k,'nb_stroke':len(sample),'l_id':k+str(i),\"drawing\":sample}\n",
    "      for si in range(d_sample['nb_stroke']): \n",
    "        ll=list()\n",
    "        x = [row[0] for row in d_sample['drawing'][si]]\n",
    "        y = [row[1] for row in d_sample['drawing'][si]]\n",
    "        ll.append(x)\n",
    "        ll.append(y)\n",
    "        row = {'letter':d_sample['letter'], 'l_id':d_sample['l_id'], 'nb_stroke':d_sample['nb_stroke'],'stroke_order':si,'stroke':ll,'keyid':d_sample['l_id']+'_'+str(si)}\n",
    "        json.dump(row, fp)\n",
    "        fp.write('\\n')"
   ]
  },
  {
   "cell_type": "code",
   "execution_count": 21,
   "metadata": {
    "colab": {
     "base_uri": "https://localhost:8080/",
     "height": 35
    },
    "colab_type": "code",
    "executionInfo": {
     "elapsed": 918,
     "status": "ok",
     "timestamp": 1552553394319,
     "user": {
      "displayName": "Wafa Johal",
      "photoUrl": "https://lh6.googleusercontent.com/-dSe4vNhtGJo/AAAAAAAAAAI/AAAAAAAAIHU/HpRPL_mjkKo/s64/photo.jpg",
      "userId": "02628719330545126296"
     },
     "user_tz": -60
    },
    "id": "sFVluD4UWTs5",
    "outputId": "4e8507ca-3075-4dbb-e187-8d5c7bbe683b"
   },
   "outputs": [
    {
     "data": {
      "text/plain": [
       "dict_keys(['letter', 'l_id', 'nb_stroke', 'stroke_order', 'stroke', 'keyid'])"
      ]
     },
     "execution_count": 21,
     "metadata": {},
     "output_type": "execute_result"
    }
   ],
   "source": [
    "path = filename\n",
    "\n",
    "data_json = json.loads(tf.gfile.Open(path).readline())\n",
    "data_json.keys()"
   ]
  },
  {
   "cell_type": "code",
   "execution_count": 22,
   "metadata": {
    "colab": {
     "base_uri": "https://localhost:8080/",
     "height": 347
    },
    "colab_type": "code",
    "executionInfo": {
     "elapsed": 830,
     "status": "ok",
     "timestamp": 1552553482722,
     "user": {
      "displayName": "Wafa Johal",
      "photoUrl": "https://lh6.googleusercontent.com/-dSe4vNhtGJo/AAAAAAAAAAI/AAAAAAAAIHU/HpRPL_mjkKo/s64/photo.jpg",
      "userId": "02628719330545126296"
     },
     "user_tz": -60
    },
    "id": "BTQRaD8CZNhb",
    "outputId": "1b0fabde-5bb2-4752-ccc5-9f63d9064c19"
   },
   "outputs": [
    {
     "ename": "TypeError",
     "evalue": "'int' object is not subscriptable",
     "output_type": "error",
     "traceback": [
      "\u001b[0;31m---------------------------------------------------------------------------\u001b[0m",
      "\u001b[0;31mTypeError\u001b[0m                                 Traceback (most recent call last)",
      "\u001b[0;32m<ipython-input-22-239cd9f6102d>\u001b[0m in \u001b[0;36m<module>\u001b[0;34m()\u001b[0m\n\u001b[0;32m----> 1\u001b[0;31m \u001b[0mplotLetter\u001b[0m\u001b[0;34m(\u001b[0m\u001b[0mdata_json\u001b[0m\u001b[0;34m[\u001b[0m\u001b[0;34m'stroke'\u001b[0m\u001b[0;34m]\u001b[0m\u001b[0;34m)\u001b[0m\u001b[0;34m\u001b[0m\u001b[0m\n\u001b[0m",
      "\u001b[0;32m<ipython-input-12-f060bc45f867>\u001b[0m in \u001b[0;36mplotLetter\u001b[0;34m(letter)\u001b[0m\n\u001b[1;32m     36\u001b[0m \u001b[0;32mdef\u001b[0m \u001b[0mplotLetter\u001b[0m\u001b[0;34m(\u001b[0m\u001b[0mletter\u001b[0m\u001b[0;34m)\u001b[0m\u001b[0;34m:\u001b[0m\u001b[0;34m\u001b[0m\u001b[0m\n\u001b[1;32m     37\u001b[0m   \u001b[0;32mfor\u001b[0m \u001b[0mi\u001b[0m \u001b[0;32min\u001b[0m \u001b[0mrange\u001b[0m\u001b[0;34m(\u001b[0m\u001b[0;36m0\u001b[0m\u001b[0;34m,\u001b[0m\u001b[0mlen\u001b[0m\u001b[0;34m(\u001b[0m\u001b[0mletter\u001b[0m\u001b[0;34m)\u001b[0m\u001b[0;34m)\u001b[0m\u001b[0;34m:\u001b[0m\u001b[0;34m\u001b[0m\u001b[0m\n\u001b[0;32m---> 38\u001b[0;31m     \u001b[0mx\u001b[0m \u001b[0;34m=\u001b[0m \u001b[0;34m[\u001b[0m\u001b[0mrow\u001b[0m\u001b[0;34m[\u001b[0m\u001b[0;36m0\u001b[0m\u001b[0;34m]\u001b[0m \u001b[0;32mfor\u001b[0m \u001b[0mrow\u001b[0m \u001b[0;32min\u001b[0m \u001b[0mletter\u001b[0m\u001b[0;34m[\u001b[0m\u001b[0mi\u001b[0m\u001b[0;34m]\u001b[0m\u001b[0;34m]\u001b[0m\u001b[0;34m\u001b[0m\u001b[0m\n\u001b[0m\u001b[1;32m     39\u001b[0m     \u001b[0my\u001b[0m \u001b[0;34m=\u001b[0m \u001b[0;34m[\u001b[0m\u001b[0mrow\u001b[0m\u001b[0;34m[\u001b[0m\u001b[0;36m1\u001b[0m\u001b[0;34m]\u001b[0m \u001b[0;32mfor\u001b[0m \u001b[0mrow\u001b[0m \u001b[0;32min\u001b[0m \u001b[0mletter\u001b[0m\u001b[0;34m[\u001b[0m\u001b[0mi\u001b[0m\u001b[0;34m]\u001b[0m\u001b[0;34m]\u001b[0m\u001b[0;34m\u001b[0m\u001b[0m\n\u001b[1;32m     40\u001b[0m     \u001b[0mplt\u001b[0m\u001b[0;34m.\u001b[0m\u001b[0mplot\u001b[0m\u001b[0;34m(\u001b[0m\u001b[0mx\u001b[0m\u001b[0;34m,\u001b[0m\u001b[0my\u001b[0m\u001b[0;34m)\u001b[0m\u001b[0;34m\u001b[0m\u001b[0m\n",
      "\u001b[0;32m<ipython-input-12-f060bc45f867>\u001b[0m in \u001b[0;36m<listcomp>\u001b[0;34m(.0)\u001b[0m\n\u001b[1;32m     36\u001b[0m \u001b[0;32mdef\u001b[0m \u001b[0mplotLetter\u001b[0m\u001b[0;34m(\u001b[0m\u001b[0mletter\u001b[0m\u001b[0;34m)\u001b[0m\u001b[0;34m:\u001b[0m\u001b[0;34m\u001b[0m\u001b[0m\n\u001b[1;32m     37\u001b[0m   \u001b[0;32mfor\u001b[0m \u001b[0mi\u001b[0m \u001b[0;32min\u001b[0m \u001b[0mrange\u001b[0m\u001b[0;34m(\u001b[0m\u001b[0;36m0\u001b[0m\u001b[0;34m,\u001b[0m\u001b[0mlen\u001b[0m\u001b[0;34m(\u001b[0m\u001b[0mletter\u001b[0m\u001b[0;34m)\u001b[0m\u001b[0;34m)\u001b[0m\u001b[0;34m:\u001b[0m\u001b[0;34m\u001b[0m\u001b[0m\n\u001b[0;32m---> 38\u001b[0;31m     \u001b[0mx\u001b[0m \u001b[0;34m=\u001b[0m \u001b[0;34m[\u001b[0m\u001b[0mrow\u001b[0m\u001b[0;34m[\u001b[0m\u001b[0;36m0\u001b[0m\u001b[0;34m]\u001b[0m \u001b[0;32mfor\u001b[0m \u001b[0mrow\u001b[0m \u001b[0;32min\u001b[0m \u001b[0mletter\u001b[0m\u001b[0;34m[\u001b[0m\u001b[0mi\u001b[0m\u001b[0;34m]\u001b[0m\u001b[0;34m]\u001b[0m\u001b[0;34m\u001b[0m\u001b[0m\n\u001b[0m\u001b[1;32m     39\u001b[0m     \u001b[0my\u001b[0m \u001b[0;34m=\u001b[0m \u001b[0;34m[\u001b[0m\u001b[0mrow\u001b[0m\u001b[0;34m[\u001b[0m\u001b[0;36m1\u001b[0m\u001b[0;34m]\u001b[0m \u001b[0;32mfor\u001b[0m \u001b[0mrow\u001b[0m \u001b[0;32min\u001b[0m \u001b[0mletter\u001b[0m\u001b[0;34m[\u001b[0m\u001b[0mi\u001b[0m\u001b[0;34m]\u001b[0m\u001b[0;34m]\u001b[0m\u001b[0;34m\u001b[0m\u001b[0m\n\u001b[1;32m     40\u001b[0m     \u001b[0mplt\u001b[0m\u001b[0;34m.\u001b[0m\u001b[0mplot\u001b[0m\u001b[0;34m(\u001b[0m\u001b[0mx\u001b[0m\u001b[0;34m,\u001b[0m\u001b[0my\u001b[0m\u001b[0;34m)\u001b[0m\u001b[0;34m\u001b[0m\u001b[0m\n",
      "\u001b[0;31mTypeError\u001b[0m: 'int' object is not subscriptable"
     ]
    }
   ],
   "source": [
    "plotLetter(data_json['stroke'])"
   ]
  },
  {
   "cell_type": "markdown",
   "metadata": {
    "colab_type": "text",
    "id": "PgSNjBl5pon_"
   },
   "source": [
    "## plotting utils\n",
    "This following block create function to color with a gradient"
   ]
  },
  {
   "cell_type": "code",
   "execution_count": 23,
   "metadata": {
    "colab": {},
    "colab_type": "code",
    "id": "U15Euhfd6LOy"
   },
   "outputs": [],
   "source": [
    "import numpy as np\n",
    "import matplotlib.pyplot as plt\n",
    "import matplotlib.collections as mcoll\n",
    "\n",
    "\n",
    "def multicolored_lines(x,y,cmap='winter'):\n",
    "    \"\"\"\n",
    "    http://nbviewer.ipython.org/github/dpsanders/matplotlib-examples/blob/master/colorline.ipynb\n",
    "    http://matplotlib.org/examples/pylab_examples/multicolored_line.html\n",
    "    \"\"\"\n",
    "\n",
    "    fig, ax = plt.subplots()\n",
    "    lc = colorline(x, y, cmap=cmap)\n",
    "    plt.colorbar(lc)\n",
    "    plt.xlim(min(x), max(x))\n",
    "    plt.ylim(-1.0, 1.0)\n",
    "    plt.show()\n",
    "\n",
    "def colorline(\n",
    "        x, y, z=None, cmap='copper', norm=plt.Normalize(0.0, 1.0),\n",
    "        linewidth=3, alpha=1.0):\n",
    "    \"\"\"\n",
    "    http://nbviewer.ipython.org/github/dpsanders/matplotlib-examples/blob/master/colorline.ipynb\n",
    "    http://matplotlib.org/examples/pylab_examples/multicolored_line.html\n",
    "    Plot a colored line with coordinates x and y\n",
    "    Optionally specify colors in the array z\n",
    "    Optionally specify a colormap, a norm function and a line width\n",
    "    \"\"\"\n",
    "\n",
    "    # Default colors equally spaced on [0,1]:\n",
    "    if z is None:\n",
    "        z = np.linspace(0.0, 1.0, len(x))\n",
    "\n",
    "    # Special case if a single number:\n",
    "    # to check for numerical input -- this is a hack\n",
    "    if not hasattr(z, \"__iter__\"):\n",
    "        z = np.array([z])\n",
    "\n",
    "    z = np.asarray(z)\n",
    "\n",
    "    segments = make_segments(x, y)\n",
    "    lc = mcoll.LineCollection(segments, array=z, cmap=cmap, norm=norm,\n",
    "                              linewidth=linewidth, alpha=alpha)\n",
    "\n",
    "    ax = plt.gca()\n",
    "    ax.add_collection(lc)\n",
    "\n",
    "    return lc\n",
    "\n",
    "def make_segments(x, y):\n",
    "    \"\"\"\n",
    "    Create list of line segments from x and y coordinates, in the correct format\n",
    "    for LineCollection: an array of the form numlines x (points per line) x 2 (x\n",
    "    and y) array\n",
    "    \"\"\"\n",
    "\n",
    "    points = np.array([x, y]).T.reshape(-1, 1, 2)\n",
    "    segments = np.concatenate([points[:-1], points[1:]], axis=1)\n",
    "    return segments\n",
    "\n"
   ]
  },
  {
   "cell_type": "code",
   "execution_count": null,
   "metadata": {
    "colab": {},
    "colab_type": "code",
    "id": "op8Y3suSIHZr"
   },
   "outputs": [],
   "source": []
  }
 ],
 "metadata": {
  "colab": {
   "collapsed_sections": [],
   "name": "1_LoadHanwriting Dataset.ipynb",
   "provenance": [],
   "toc_visible": true,
   "version": "0.3.2"
  },
  "kernelspec": {
   "display_name": "Python 3",
   "language": "python",
   "name": "python3"
  },
  "language_info": {
   "codemirror_mode": {
    "name": "ipython",
    "version": 3
   },
   "file_extension": ".py",
   "mimetype": "text/x-python",
   "name": "python",
   "nbconvert_exporter": "python",
   "pygments_lexer": "ipython3",
   "version": "3.6.5"
  }
 },
 "nbformat": 4,
 "nbformat_minor": 2
}
