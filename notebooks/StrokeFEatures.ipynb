{
 "cells": [
  {
   "cell_type": "code",
   "execution_count": 1,
   "metadata": {
    "colab": {},
    "colab_type": "code",
    "id": "xfCi4U2zKXKC"
   },
   "outputs": [],
   "source": [
    "import base64, collections, io, itertools, functools, json, os, random, re, textwrap, time, urllib\n",
    "import numpy as np\n",
    "import pandas as pd\n",
    "import tensorflow as tf\n",
    "from matplotlib import pyplot\n",
    "import seaborn as sns\n",
    "sns.set_style(\"white\")\n",
    "pyplot.style.use('default')"
   ]
  },
  {
   "cell_type": "markdown",
   "metadata": {
    "colab_type": "text",
    "id": "SU0-6vNvlb6O"
   },
   "source": [
    "# Init"
   ]
  },
  {
   "cell_type": "markdown",
   "metadata": {
    "colab_type": "text",
    "id": "2LP97p95lfCq"
   },
   "source": [
    "## Load Dataset"
   ]
  },
  {
   "cell_type": "code",
   "execution_count": 8,
   "metadata": {
    "colab": {},
    "colab_type": "code",
    "id": "2cKCpDVslo54"
   },
   "outputs": [],
   "source": [
    "## Load data from Drive (Colab only).\n",
    "data_path = '../data/'"
   ]
  },
  {
   "cell_type": "code",
   "execution_count": null,
   "metadata": {
    "colab": {
     "base_uri": "https://localhost:8080/",
     "height": 35
    },
    "colab_type": "code",
    "executionInfo": {
     "elapsed": 466,
     "status": "ok",
     "timestamp": 1555057299158,
     "user": {
      "displayName": "Wafa Johal",
      "photoUrl": "https://lh6.googleusercontent.com/-dSe4vNhtGJo/AAAAAAAAAAI/AAAAAAAAIHU/HpRPL_mjkKo/s64/photo.jpg",
      "userId": "02628719330545126296"
     },
     "user_tz": -120
    },
    "id": "YRikjx1Clr9B",
    "outputId": "fbcdf164-fe16-4679-ea26-c719c4018120"
   },
   "outputs": [
    {
     "name": "stdout",
     "output_type": "stream",
     "text": [
      "Drive already mounted at /content/gdrive; to attempt to forcibly remount, call drive.mount(\"/content/gdrive\", force_remount=True).\n"
     ]
    }
   ],
   "source": []
  },
  {
   "cell_type": "code",
   "execution_count": 5,
   "metadata": {
    "colab": {},
    "colab_type": "code",
    "id": "2Z-v_9ZvnDBJ"
   },
   "outputs": [],
   "source": [
    "def convert(line):\n",
    "    \"\"\"Converts single JSON line and converts 'drawing' to list of np.array.\"\"\"\n",
    "    d = json.loads(line)\n",
    "    d['drawing'] = [np.array(stroke) for stroke in d['drawing']]\n",
    "    return d\n",
    "  \n",
    "def loaditer(name, unrecognized=False, letter=False, scaled=False):\n",
    "  \"\"\"Returns iterable of drawings in specified file.\n",
    "\n",
    "  Args:\n",
    "    name: Name of the downloaded object (e.g. \"elephant\").\n",
    "    unrecognized: Whether to include drawings that were not recognized\n",
    "        by Google AI (i.e. the hard ones).\n",
    "  \"\"\"\n",
    "  if(letter): \n",
    "    if(scaled):\n",
    "      data_pathb = data_path+'/uji/'\n",
    "    else:\n",
    "      data_pathb = data_path+'/uji/no_scale/'\n",
    "  else:\n",
    "    data_pathb = data_path\n",
    "  for line in tf.gfile.Open('%s/%s.ndjson' % (data_pathb, name)):\n",
    "    d = convert(line)\n",
    "    if unrecognized or d['recognized'] :\n",
    "      yield d\n",
    "\n",
    "def loadn(name, n, unrecognized=False, letter=False):\n",
    "  \"\"\"Returns list of drawings.\n",
    "\n",
    "  Args:\n",
    "    name: Name of the downloaded object (e.g. \"elephant\").\n",
    "    n: Number of drawings to load.\n",
    "    unrecognized: Whether to include drawings that were not recognized\n",
    "        by Google AI (i.e. the hard ones).\n",
    "  \"\"\"\n",
    "  it = loaditer(name, unrecognized=unrecognized, letter=letter)\n",
    "  return list(itertools.islice(it, 0, n))\n",
    "\n",
    "def loadALine(name,n,unrecognized=False,letter=False, scaled=False):\n",
    "  count = 0\n",
    "  if(letter): \n",
    "    if(scaled):\n",
    "      data_pathb = data_path+'/uji/'\n",
    "    else:\n",
    "      data_pathb = data_path+'/uji/no_scale/'\n",
    "  else:\n",
    "    data_pathb = data_path\n",
    "  for line in tf.gfile.Open('%s/%s.ndjson' % (data_pathb, name)):\n",
    "    if(n == count):\n",
    "      d = convert(line)\n",
    "      if unrecognized or d['recognized'] :\n",
    "          return d\n",
    "    else:\n",
    "      count +=1\n",
    "      continue\n",
    "  \n"
   ]
  },
  {
   "cell_type": "code",
   "execution_count": 6,
   "metadata": {
    "colab": {},
    "colab_type": "code",
    "id": "IK-93jt8n74X"
   },
   "outputs": [],
   "source": [
    "import math\n",
    "\n",
    "def findMinMax(letter): \n",
    "  xmin = min([row[0] for row in letter[0]])\n",
    "  ymin = min([row[1] for row in letter[0]])\n",
    "  xmax = max([row[0] for row in letter[0]])\n",
    "  ymax = max([row[1] for row in letter[0]])\n",
    "  for i in range(1,len(letter)): # for each stroke\n",
    "    x = [row[0] for row in letter[i]]\n",
    "    y = [row[1] for row in letter[i]]\n",
    "    \n",
    "    if min(x) < xmin : xmin = min(x) \n",
    "    if max(x) > xmax : xmax = max(x) \n",
    "    if min(y) < ymin : ymin = min(y) \n",
    "    if max(y) > ymax : ymax = max(y)\n",
    "  return {'xmin':xmin,'xmax':xmax,'ymin':ymin,'ymax':ymax}\n",
    "  \n",
    "\n",
    "def rotate_around_point_highperf(xy, radians, origin=(0, 0)):\n",
    "  \"\"\"Rotate a point around a given point.\n",
    "\n",
    "  I call this the \"high performance\" version since we're caching some$\n",
    "  values that are needed >1 time. It's less readable than the previous\n",
    "  function but it's faster.\n",
    "  \"\"\"\n",
    "  x, y = xy\n",
    "  offset_x, offset_y = origin\n",
    "  adjusted_x = (x - offset_x)\n",
    "  adjusted_y = (y - offset_y)\n",
    "  cos_rad = math.cos(radians)\n",
    "  sin_rad = math.sin(radians)\n",
    "  qx = offset_x + cos_rad * adjusted_x + sin_rad * adjusted_y\n",
    "  qy = offset_y + -sin_rad * adjusted_x + cos_rad * adjusted_y\n",
    "  \n",
    "  return [qx, qy]\n",
    "  \n",
    "def rotate_via_numpy(xy, radians):\n",
    "  \"\"\"Use numpy to build a rotation matrix and take the dot product.\"\"\"\n",
    "  x, y = xy\n",
    "  c, s = np.cos(radians), np.sin(radians)\n",
    "  j = np.matrix([[c, s, 0], [-s, c, 0], [0, 0, 1]])\n",
    "  m = np.dot(j, [x, y, 1])\n",
    "\n",
    "  return [float(m.T[0]), float(m.T[1])]\n",
    "\n",
    "def rotate_path(stroke,radians):\n",
    "  sx = stroke.T[0]\n",
    "  sy = stroke.T[1]\n",
    "  sq = np.array(stroke.T, dtype=float)\n",
    "  for i in range(0, len(sx)):\n",
    "    q = rotate_via_numpy((sx[i],sy[i]),radians)\n",
    "    sq[0][i] = q[0]\n",
    "    sq[1][i] = q[1]\n",
    "  return sq.T\n",
    "\n",
    "def rotate_letter(letter,radians):\n",
    "  letterc = letter.copy()\n",
    "  for i in range(0,len(letter)):\n",
    "    q = rotate_path(letter[i],radians)\n",
    "    letterc[i] = q\n",
    "  return letterc\n",
    "\n",
    "\n",
    "def stroke_cart2polar(stroke): \n",
    "  sx = stroke.T[0]\n",
    "  sy = stroke.T[1]\n",
    "  sq = np.array(stroke.T, dtype=float)\n",
    "  for i in range(0, len(sx)):\n",
    "    q = cart2polar(sx[i],sy[i])\n",
    "    sq[0][i] = q[0]\n",
    "    sq[1][i] = q[1]\n",
    "  return sq.T\n",
    "\n",
    "\n",
    "def letter_cart2polar(letter): \n",
    "  letterc = letter.copy()\n",
    "  for i in range(0,len(letter)):\n",
    "    q = stroke_cart2polar(letter[i])\n",
    "    letterc[i] = q\n",
    "  return letterc\n",
    "\n",
    "\n",
    "def cart2polar(x, y):\n",
    "  r = np.sqrt(x**2 + y**2)\n",
    "  theta = np.arctan2(x, y)  # θ referenced to vertical\n",
    "  return r, theta\n",
    "\n",
    "\n",
    "def polar2cart(r, theta):\n",
    "  y = r * np.cos(theta)   # θ referenced to vertical\n",
    "  x = r * np.sin(theta)\n",
    "  return x, y\n",
    "  \n",
    "  \n",
    "def stroke_polar2cart(stroke): \n",
    "  sx = stroke.T[0]\n",
    "  sy = stroke.T[1]\n",
    "  sq =  np.array(stroke.T, dtype=float)\n",
    "  for i in range(0, len(sx)):\n",
    "    q = polar2cart(sx[i],sy[i])\n",
    "    sq[0][i] = q[0]\n",
    "    sq[1][i] = q[1]\n",
    "  return sq.T\n",
    "\n",
    "\n",
    "def letter_polar2cart(letter): \n",
    "  letterc = letter.copy()\n",
    "  for i in range(0,len(letter)):\n",
    "    q = stroke_polar2cart(letter[i])\n",
    "    letterc[i] = q\n",
    "  return letterc\n",
    "\n",
    "\n",
    "\n",
    "def plotLetter(letter):\n",
    "  for stroke in letter['drawing']:\n",
    "    xy = stroke.T\n",
    "    pyplot.plot(xy[0,:], -xy[1,:])\n",
    "    pxy = xy[:]\n",
    "    # Indicate \"point captured\" with a red circle.\n",
    "    pyplot.plot(pxy[0], -pxy[1], 'bo');\n",
    "    pyplot.plot(pxy[0,0], -pxy[1,0], 'r*')\n",
    "    \n",
    "    \n",
    "def plotLetterScaled(letter):\n",
    "  for stroke in letter['drawing']:\n",
    "    xy = stroke.T\n",
    "    pyplot.plot(xy[0,:], xy[1,:])\n",
    "    pxy = xy[:]\n",
    "    # Indicate \"point captured\" with a red circle.\n",
    "    pyplot.plot(pxy[0], pxy[1], 'bo');\n",
    "    pyplot.plot(pxy[0,0], pxy[1,0], 'r*')\n",
    "  \n",
    "  \n",
    "def rescale(letter):\n",
    "  scaled_letter = [] \n",
    "  minmax = findMinMax(letter)\n",
    "  #print(minmax)\n",
    "  for i in range(0,len(letter)): # for each stroke\n",
    "    x = [row[0] for row in letter[i]]\n",
    "    y = [row[1] for row in letter[i]]\n",
    "    \n",
    "    x = [(i - minmax['xmin'])/ (minmax['xmax']- minmax['xmin'])   for i in x]\n",
    "    y = [(j - minmax['ymin'])/ (minmax['ymax']- minmax['ymin'])  for j in y]\n",
    "    \n",
    "    \n",
    "    \n",
    "    row = list(zip(x,y))\n",
    "    scaled_letter.append(row)\n",
    "  \n",
    "  return scaled_letter\n",
    "\n",
    "\n",
    "def rescaleLetter(letter):\n",
    "  scaled_letter = letter.copy()\n",
    "  minmax = findMinMax(letter)\n",
    "  #print(minmax)\n",
    "  for i in range(0,len(letter)): # for each stroke\n",
    "    x = [row[0] for row in letter[i]]\n",
    "    y = [row[1] for row in letter[i]]\n",
    "    \n",
    "    x = [(i - minmax['xmin'])/ (minmax['xmax']- minmax['xmin'])   for i in x]\n",
    "    y = [(j - minmax['ymin'])/ (minmax['ymax']- minmax['ymin'])  for j in y]\n",
    "    \n",
    "    sq =  np.array(letter[i].T, dtype=float)\n",
    "    sq[0] = x\n",
    "    sq[1] = y\n",
    "    \n",
    "    scaled_letter[i] = sq.T\n",
    "  \n",
    "  return scaled_letter\n",
    "\n",
    "\n",
    "\n",
    "def zstroke(stroke):\n",
    "  sx = stroke.T[0]\n",
    "  sy = stroke.T[1]\n",
    "  sq = np.array(stroke.T, dtype=float)\n",
    "  sq = stats.zscore(sq, axis=1)\n",
    "  return sq.T\n",
    "\n",
    "def zletter(letter):\n",
    "  sx = stroke.T[0]\n",
    "  sy = stroke.T[1]\n",
    "  sq = np.array(stroke.T, dtype=float)\n",
    "  sq = stats.zscore(sq, axis=1)\n",
    "  return sq.T\n",
    "  "
   ]
  },
  {
   "cell_type": "code",
   "execution_count": 9,
   "metadata": {
    "colab": {
     "base_uri": "https://localhost:8080/",
     "height": 563
    },
    "colab_type": "code",
    "executionInfo": {
     "elapsed": 1521,
     "status": "ok",
     "timestamp": 1555057304542,
     "user": {
      "displayName": "Wafa Johal",
      "photoUrl": "https://lh6.googleusercontent.com/-dSe4vNhtGJo/AAAAAAAAAAI/AAAAAAAAIHU/HpRPL_mjkKo/s64/photo.jpg",
      "userId": "02628719330545126296"
     },
     "user_tz": -120
    },
    "id": "gmSDTkbHnRzg",
    "outputId": "76b162a4-c793-4937-a948-8aac75fbb2d7"
   },
   "outputs": [
    {
     "data": {
      "text/plain": [
       "<Figure size 432x288 with 0 Axes>"
      ]
     },
     "metadata": {},
     "output_type": "display_data"
    },
    {
     "data": {
      "image/png": "[encoded data removed]",
      "text/plain": [
       "<Figure size 432x432 with 4 Axes>"
      ]
     },
     "metadata": {},
     "output_type": "display_data"
    }
   ],
   "source": [
    "letterChar = 'B' #@param [\"A\", \"a\", \"b\", \"B\",\"C\",\"c\",\"L\",\"l\",\"O\",\"o\"] {allow-input: true}\n",
    "minLet = 24 #@param {type:\"slider\", min:0, max:119, step:1}\n",
    "nb = 2 #@param {type:\"slider\", min:2, max:10, step:1}\n",
    "\n",
    "# Some more letters...\n",
    "rows, cols = nb, 2\n",
    "\n",
    "# Some more letters...\n",
    "pyplot.figure(3)\n",
    "pyplot.figure(figsize=(3*cols, 3*rows))\n",
    "for y in range(rows):\n",
    "  for x in range(cols):\n",
    "    i = y * cols + x \n",
    "    pyplot.subplot(rows, cols, i + 1)\n",
    "    pyplot.title(minLet+i)\n",
    "    letter_sample = loadALine(letterChar,minLet+i, letter=True, unrecognized=True)\n",
    "    plotLetter(letter_sample)\n",
    "    #for s in letter_sample['drawing']:\n",
    "    #  pyplot.plot(s.T[0], -s.T[1])\n",
    "\n",
    "\n",
    "  \n",
    "nice_l = {'B':28, 'A':21,'a':69,'b':61, 'C':37, 'c':89,'L':34, 'l':32, 'O':32, 'o':56}\n",
    "#b 71, b 46"
   ]
  },
  {
   "cell_type": "code",
   "execution_count": null,
   "metadata": {
    "colab": {},
    "colab_type": "code",
    "id": "VNpUPWeOpDu9"
   },
   "outputs": [],
   "source": []
  },
  {
   "cell_type": "markdown",
   "metadata": {
    "colab_type": "text",
    "id": "FYUSEBYtKo5k"
   },
   "source": [
    "#  Preprocessing\n",
    "\n",
    "done at the letter level"
   ]
  },
  {
   "cell_type": "markdown",
   "metadata": {
    "colab_type": "text",
    "id": "gqbDHBEKKsBG"
   },
   "source": [
    "noramize and translate to 128\n",
    "\n",
    "8 unit between 2 points in resampling"
   ]
  },
  {
   "cell_type": "code",
   "execution_count": 10,
   "metadata": {
    "colab": {},
    "colab_type": "code",
    "id": "ScwrMeb9M34v"
   },
   "outputs": [],
   "source": [
    "from matplotlib.patches import Rectangle\n",
    "from sklearn import preprocessing\n",
    "from scipy.interpolate import splprep\n",
    "from scipy.signal import resample\n",
    "\n",
    "\n",
    "def boxCenter(box):\n",
    "  return ((box['xmax']-box['xmin'])/2, (box['ymax']-box['ymin'])/2)\n",
    "  \n",
    "\n",
    "def getBondingBox(letter):\n",
    "  '''\n",
    "  returns centroid, w and l and top left corner \n",
    "  \n",
    "  '''\n",
    "  \n",
    "  minmax = findMinMax(letter['drawing'])\n",
    "  centroid = boxCenter(minmax)\n",
    "  size = (minmax['xmax'] - minmax['xmin'] , minmax['ymax'] - minmax['ymin'] )\n",
    "  \n",
    "  \n",
    "  return (centroid, size, ( minmax['xmin'] , minmax['ymin'] ))\n",
    "\n",
    "\n",
    "def drawBox(x,y,w,l):\n",
    "  # Create a Rectangle patch\n",
    "  rect = Rectangle((x,y),w,l,linewidth=1,edgecolor='r',facecolor='none')\n",
    "\n",
    "  # Get the current reference\n",
    "  ax = pyplot.gca()\n",
    "\n",
    "  # Add the patch to the Axes\n",
    "  ax.add_patch(rect)\n",
    "\n",
    "\n",
    "def linearScaling(letter, dim=128):\n",
    "  scaled_letter = letter.copy()\n",
    "  minmax = findMinMax(letter['drawing'])\n",
    "  for i in range(0,len(letter['drawing'])): # for each stroke\n",
    "    x = [row[0] for row in letter['drawing'][i]]\n",
    "    y = [row[1] for row in letter['drawing'][i]]\n",
    "    \n",
    "    x = [(i - minmax['xmin'])/ (minmax['xmax']- minmax['xmin'])   for i in x]\n",
    "    y = [(j - minmax['ymin'])/ (minmax['ymax']- minmax['ymin'])  for j in y]\n",
    "    y = [j * -1 for j in y]\n",
    "    \n",
    "    sq =  np.array(letter['drawing'][i].T, dtype=float)\n",
    "    \n",
    "    sq[0] = x\n",
    "    sq[1] = y \n",
    "    \n",
    "    scaled_letter['drawing'][i] = sq.T *dim\n",
    "  \n",
    "  return scaled_letter\n",
    "\n",
    "\n",
    "'''def resampleLetter(letter,eq=8):\n",
    "  scaled_letter = letter.copy()\n",
    "  \n",
    "  for i in range(0,len(letter['drawing'])): # for each stroke\n",
    "    sq =  np.array(letter['drawing'][i], dtype=float)\n",
    "    x = [row[0] for row in sq]\n",
    "    y = [row[1] for row in sq]\n",
    "    print(len(x))\n",
    "    x =  resample(x, eq)\n",
    "    y =  resample(y, eq)\n",
    "    print(len(x))\n",
    "    \n",
    "    sq[0] = x\n",
    "    sq[1] = y \n",
    "    \n",
    "    \n",
    "    scaled_letter['drawing'][i] = sq\n",
    "  \n",
    "  return scaled_letter\n",
    "'''\n",
    "  \n",
    "\n",
    "def translation():\n",
    "  '''\n",
    "  Centers the drawing in a w,h size\n",
    "  '''\n",
    "  \n",
    "  return\n",
    "  "
   ]
  },
  {
   "cell_type": "code",
   "execution_count": 11,
   "metadata": {
    "colab": {
     "base_uri": "https://localhost:8080/",
     "height": 849
    },
    "colab_type": "code",
    "executionInfo": {
     "elapsed": 1447,
     "status": "ok",
     "timestamp": 1555057308163,
     "user": {
      "displayName": "Wafa Johal",
      "photoUrl": "https://lh6.googleusercontent.com/-dSe4vNhtGJo/AAAAAAAAAAI/AAAAAAAAIHU/HpRPL_mjkKo/s64/photo.jpg",
      "userId": "02628719330545126296"
     },
     "user_tz": -120
    },
    "id": "R2jkfmu_NhBH",
    "outputId": "584cff7d-4083-4668-f8b6-978d15b34a94"
   },
   "outputs": [
    {
     "data": {
      "image/png": "[encoded data removed]",
      "text/plain": [
       "<Figure size 432x288 with 1 Axes>"
      ]
     },
     "metadata": {},
     "output_type": "display_data"
    },
    {
     "data": {
      "image/png": "[encoded data removed]",
      "text/plain": [
       "<Figure size 432x288 with 1 Axes>"
      ]
     },
     "metadata": {},
     "output_type": "display_data"
    }
   ],
   "source": [
    "letterChar = 'B' #@param [\"A\", \"a\", \"b\", \"B\",\"C\",\"c\",\"L\",\"l\",\"O\",\"o\"] {allow-input: true}\n",
    "minLet = 24 #@param {type:\"slider\", min:0, max:119, step:1}\n",
    "\n",
    "\n",
    "\n",
    "letter_sample = loadALine(letterChar,minLet, letter=True, unrecognized=True)\n",
    "\n",
    "centroid, size, ori = getBondingBox(letter_sample)\n",
    "w,l = size\n",
    "xm, ym = ori\n",
    "drawBox(xm,-ym,w,-l)\n",
    "\n",
    "plotLetter(letter_sample)\n",
    "\n",
    "pyplot.figure(3)\n",
    "scaled = linearScaling(letter_sample)\n",
    "plotLetterScaled(scaled)\n",
    "\n",
    "  \n",
    "  "
   ]
  },
  {
   "cell_type": "markdown",
   "metadata": {
    "colab_type": "text",
    "id": "9YqJTLMojubH"
   },
   "source": [
    "# HBF49 Features"
   ]
  },
  {
   "cell_type": "markdown",
   "metadata": {
    "colab_type": "text",
    "id": "B7FVa_yGLOnO"
   },
   "source": [
    "## Dynamic Features for each stroke\n",
    "\n",
    "- starting point position (f1, f2)\n",
    "- ending point position (f3, f4)\n",
    "- first to last point vector v "
   ]
  },
  {
   "cell_type": "code",
   "execution_count": 12,
   "metadata": {
    "colab": {},
    "colab_type": "code",
    "id": "-ebLlkU4KX1B"
   },
   "outputs": [],
   "source": [
    "def f1(stroke, centroid, dim):\n",
    "  return (stroke[0,0] - centroid[0])/dim +1/2 \n",
    "\n",
    "def f2(stroke, centroid, dim):\n",
    "  return (stroke[0,1] - centroid[1])/dim +1/2 \n",
    "\n",
    "def f3(stroke, centroid, dim):\n",
    "  return (stroke[-1,0] - centroid[0])/dim +1/2 \n",
    "\n",
    "def f4(stroke, centroid, dim):\n",
    "  return (stroke[-1,1] - centroid[1])/dim +1/2 \n"
   ]
  },
  {
   "cell_type": "code",
   "execution_count": 13,
   "metadata": {
    "colab": {},
    "colab_type": "code",
    "id": "IH7NlezDoHhy"
   },
   "outputs": [],
   "source": [
    "from numpy import linalg as LA\n",
    "from scipy.spatial import distance\n",
    "\n",
    "def getVEndStart(stroke):\n",
    "  return np.array([stroke[-1,0] - stroke[0,0], stroke[-1,1] - stroke[0,1]])\n",
    "\n",
    "def f5(vendstart):\n",
    "  return LA.norm(vendstart)\n",
    "\n",
    "def f6(vendstart):\n",
    "  ux = np.array([1,0])\n",
    "  nv  =  vendstart / LA.norm(vendstart)\n",
    "  a = np.dot(nv,ux)\n",
    "  print(a)\n",
    "  return np.cos(a)\n",
    "\n",
    "def f7(vendstart):\n",
    "  uy = np.array([0,1])\n",
    "  nv  =  vendstart / LA.norm(vendstart)\n",
    "  a = np.dot(nv,uy)\n",
    "  print(a)\n",
    "  return np.sin(a)"
   ]
  },
  {
   "cell_type": "code",
   "execution_count": 14,
   "metadata": {
    "colab": {},
    "colab_type": "code",
    "id": "48cmG8JutrhW"
   },
   "outputs": [],
   "source": [
    "from math import hypot\n",
    "\n",
    "def getLengthPath(stroke):\n",
    "  lengths = np.sqrt(np.sum(np.diff(stroke, axis=0)**2, axis=1)) # Length between corners\n",
    "  total_length = np.sum(lengths)\n",
    "  return total_length\n",
    "\n",
    "def getLengthLetter(letter):\n",
    "  lengths = [getLengthPath(s) for s in letter['drawing']]\n",
    "  total_length = np.sum(lengths)\n",
    "  return total_length\n",
    "\n",
    "def f8(vendstart,l):\n",
    "  return f5(vendstart)/l"
   ]
  },
  {
   "cell_type": "code",
   "execution_count": 15,
   "metadata": {
    "colab": {
     "base_uri": "https://localhost:8080/",
     "height": 35
    },
    "colab_type": "code",
    "executionInfo": {
     "elapsed": 471,
     "status": "ok",
     "timestamp": 1555057314606,
     "user": {
      "displayName": "Wafa Johal",
      "photoUrl": "https://lh6.googleusercontent.com/-dSe4vNhtGJo/AAAAAAAAAAI/AAAAAAAAIHU/HpRPL_mjkKo/s64/photo.jpg",
      "userId": "02628719330545126296"
     },
     "user_tz": -120
    },
    "id": "Hioi8YJsmQLn",
    "outputId": "8a685661-e801-4997-f631-21dcde739b70"
   },
   "outputs": [
    {
     "name": "stdout",
     "output_type": "stream",
     "text": [
      "430.67425430003266\n"
     ]
    }
   ],
   "source": [
    "s = letter_sample['drawing'][1]\n",
    "v = getVEndStart(s)\n",
    "l = getLengthPath(s)\n",
    "ll = getLengthLetter(letter_sample)\n",
    "\n",
    "f8(v, l)\n",
    "print(l)"
   ]
  },
  {
   "cell_type": "code",
   "execution_count": 16,
   "metadata": {
    "colab": {},
    "colab_type": "code",
    "id": "eXlXEB5Pmg0i"
   },
   "outputs": [],
   "source": [
    "def getInitialVect(stroke): ## consider vect between first and third point\n",
    "  return np.array([stroke[2,0] - stroke[0,0], stroke[2,1] - stroke[0,1]])\n",
    "\n",
    "def f9(initVect):\n",
    "  return f6(initVect)\n",
    "\n",
    "def f10(initVect):\n",
    "  return f7(initVect)\n",
    "  "
   ]
  },
  {
   "cell_type": "code",
   "execution_count": 17,
   "metadata": {
    "colab": {
     "base_uri": "https://localhost:8080/",
     "height": 35
    },
    "colab_type": "code",
    "executionInfo": {
     "elapsed": 661,
     "status": "ok",
     "timestamp": 1555057317157,
     "user": {
      "displayName": "Wafa Johal",
      "photoUrl": "https://lh6.googleusercontent.com/-dSe4vNhtGJo/AAAAAAAAAAI/AAAAAAAAIHU/HpRPL_mjkKo/s64/photo.jpg",
      "userId": "02628719330545126296"
     },
     "user_tz": -120
    },
    "id": "rs_xN-5JvhUX",
    "outputId": "28d471ab-0d2f-40a4-9bbc-48464b1c69b8"
   },
   "outputs": [
    {
     "data": {
      "text/plain": [
       "0.01615522734958063"
      ]
     },
     "execution_count": 17,
     "metadata": {},
     "output_type": "execute_result"
    }
   ],
   "source": [
    "def getMiddlePoint(stroke):\n",
    "  m = int(len(stroke)/2)\n",
    "  return stroke[m]\n",
    "\n",
    "def f11(stroke, m, dim):\n",
    "  return 1/w * (m[0] - (stroke[0,0] + stroke[-1,0])/2)\n",
    "\n",
    "def f12(stroke, m, dim):\n",
    "  return 1/w * (m[1] - (stroke[0,1] + stroke[-1,1])/2)\n",
    "\n",
    "m = getMiddlePoint(s)\n",
    "f12(s,m,128)"
   ]
  },
  {
   "cell_type": "code",
   "execution_count": 18,
   "metadata": {
    "colab": {},
    "colab_type": "code",
    "id": "gf12D2-DjgB2"
   },
   "outputs": [],
   "source": [
    "import math\n",
    "\n",
    "def f14(letter):\n",
    "  return letter['nb_stroke']\n",
    "\n",
    "f14(letter_sample)\n",
    "\n",
    "\n",
    "centroid, size, ori = getBondingBox(letter_sample)\n",
    "w,l = size\n",
    "xm, ym = ori"
   ]
  },
  {
   "cell_type": "markdown",
   "metadata": {
    "colab_type": "text",
    "id": "eeYKG440jiXt"
   },
   "source": [
    "## Visual Features"
   ]
  },
  {
   "cell_type": "code",
   "execution_count": 19,
   "metadata": {
    "colab": {},
    "colab_type": "code",
    "id": "savPG91XSONW"
   },
   "outputs": [],
   "source": [
    "\n",
    "def f15(size):\n",
    "  w,h = size\n",
    "  return math.atan(h/w)\n",
    "\n",
    "def f16(letter):\n",
    "  return getLengthLetter(letter)\n",
    "\n",
    "def f17(l_length, size):\n",
    "  w,h = size\n",
    "  return (w+h)/l_length\n",
    "  \n",
    "def centroidLetter(letter):\n",
    "  centroids = [ centroidStroke(stroke) for stroke in letter['drawing']]  \n",
    "  return np.average(centroids, axis=0)\n",
    "\n",
    "def centroidStroke(arr):\n",
    "  sum_x = np.sum(arr[:, 0])\n",
    "  sum_y = np.sum(arr[:, 1])\n",
    "  return [sum_x/len(arr), sum_y/len(arr)]\n",
    "\n",
    "def f18(stroke, centroid):\n",
    "  deviations = [np.abs(si - centroid) for si in stroke]\n",
    "  print(deviations)\n",
    "  return np.average(deviations, axis=0)\n"
   ]
  },
  {
   "cell_type": "code",
   "execution_count": 20,
   "metadata": {
    "colab": {
     "base_uri": "https://localhost:8080/",
     "height": 35
    },
    "colab_type": "code",
    "executionInfo": {
     "elapsed": 699,
     "status": "ok",
     "timestamp": 1555057322366,
     "user": {
      "displayName": "Wafa Johal",
      "photoUrl": "https://lh6.googleusercontent.com/-dSe4vNhtGJo/AAAAAAAAAAI/AAAAAAAAIHU/HpRPL_mjkKo/s64/photo.jpg",
      "userId": "02628719330545126296"
     },
     "user_tz": -120
    },
    "id": "Wa58-Yg58Pb6",
    "outputId": "4e6e0a20-8b10-4e91-db86-5fad02efa6a8"
   },
   "outputs": [
    {
     "data": {
      "text/plain": [
       "array([ 37.8842162 , -60.84246015])"
      ]
     },
     "execution_count": 20,
     "metadata": {},
     "output_type": "execute_result"
    }
   ],
   "source": [
    "centroidd = centroidLetter(letter_sample)\n",
    "centroidd"
   ]
  },
  {
   "cell_type": "code",
   "execution_count": 21,
   "metadata": {
    "colab": {},
    "colab_type": "code",
    "id": "mUKSxtpaeghH"
   },
   "outputs": [],
   "source": [
    "def f19(stroke): \n",
    "  directions = [np.arctan((stroke[i+1][1]- stroke[i][1])/stroke[i+1][0]- stroke[i][0]) for i in range(len(stroke)-1)]\n",
    "  return np.average(directions, axis=0)\n",
    "  "
   ]
  },
  {
   "cell_type": "code",
   "execution_count": 24,
   "metadata": {
    "colab": {},
    "colab_type": "code",
    "id": "JbwwLU01YbJJ"
   },
   "outputs": [],
   "source": [
    "import math\n",
    "\n",
    "def dotproduct(v1, v2):\n",
    "  return sum((a*b) for a, b in zip(v1, v2))\n",
    "\n",
    "def length(v):\n",
    "  return math.sqrt(dotproduct(v, v))\n",
    "\n",
    "def arccos(v1, v2):\n",
    "  return math.acos(dotproduct(v1, v2) / (length(v1) * length(v2)))\n",
    "\n",
    "def thetaI(stroke, i):\n",
    "  return arccos(stroke[i] - stroke[i-1], stroke[i+1] -stroke[i])\n",
    "\n",
    "\n",
    "def f20(stroke):\n",
    "  curvatures = [thetaI(stroke, i) for i in range(2, len(stroke)-1)]\n",
    "  filt = filter(lambda v: v==v, curvatures) ## filter out the nan values\n",
    "  curvatures = [x for x in filt]\n",
    "  return np.sum(curvatures)\n",
    "\n",
    "def f21(stroke):\n",
    "  curvatures = [math.pow(math.sin(thetaI(stroke, i)),2) for i in range(2, len(stroke)-1)]\n",
    "  filt = filter(lambda v: v==v, curvatures) ## filter out the nan values\n",
    "  curvatures = [x for x in filt]\n",
    "  return np.sum(curvatures)\n",
    "\n",
    "def thetaIk(stroke, i, k):\n",
    "  return arccos(stroke[i] - stroke[i-k], stroke[i+k] -stroke[i])\n",
    "\n",
    "def f22(stroke, k):\n",
    "  curvatures = [math.pow(math.sin(thetaIk(stroke, i, k)),2) for i in range(2, len(stroke)-1)]\n",
    "  filt = filter(lambda v: v==v, curvatures) ## filter out the nan values\n",
    "  curvatures = [x for x in filt]\n",
    "  return np.sum(curvatures)\n",
    "\n",
    "def f23(stroke, k):\n",
    "  curvatures = [thetaIk(stroke, i, k) for i in range(2, len(stroke)-1)]\n",
    "  filt = filter(lambda v: v==v, curvatures) ## filter out the nan values\n",
    "  curvatures = [x for x in filt]\n",
    "  return np.max(curvatures)\n",
    "\n"
   ]
  },
  {
   "cell_type": "code",
   "execution_count": 25,
   "metadata": {
    "colab": {
     "base_uri": "https://localhost:8080/",
     "height": 408
    },
    "colab_type": "code",
    "executionInfo": {
     "elapsed": 786,
     "status": "error",
     "timestamp": 1555062458614,
     "user": {
      "displayName": "Wafa Johal",
      "photoUrl": "https://lh6.googleusercontent.com/-dSe4vNhtGJo/AAAAAAAAAAI/AAAAAAAAIHU/HpRPL_mjkKo/s64/photo.jpg",
      "userId": "02628719330545126296"
     },
     "user_tz": -120
    },
    "id": "08P8ydh9pBdD",
    "outputId": "5310087b-1bfd-4f8d-fbee-be76cdf9dcd4"
   },
   "outputs": [
    {
     "name": "stderr",
     "output_type": "stream",
     "text": [
      "/home/wafa/.local/lib/python3.6/site-packages/ipykernel_launcher.py:10: RuntimeWarning: invalid value encountered in double_scalars\n",
      "  # Remove the CWD from sys.path while we load stuff.\n",
      "/home/wafa/.local/lib/python3.6/site-packages/numpy/core/_methods.py:32: RuntimeWarning: invalid value encountered in reduce\n",
      "  return umr_minimum(a, axis, None, out, keepdims, initial)\n",
      "/home/wafa/.local/lib/python3.6/site-packages/numpy/core/_methods.py:28: RuntimeWarning: invalid value encountered in reduce\n",
      "  return umr_maximum(a, axis, None, out, keepdims, initial)\n"
     ]
    },
    {
     "ename": "ValueError",
     "evalue": "autodetected range of [nan, nan] is not finite",
     "output_type": "error",
     "traceback": [
      "\u001b[0;31m---------------------------------------------------------------------------\u001b[0m",
      "\u001b[0;31mValueError\u001b[0m                                Traceback (most recent call last)",
      "\u001b[0;32m<ipython-input-25-59d781079dcc>\u001b[0m in \u001b[0;36m<module>\u001b[0;34m()\u001b[0m\n\u001b[1;32m     11\u001b[0m \u001b[0;34m\u001b[0m\u001b[0m\n\u001b[1;32m     12\u001b[0m \u001b[0mlh\u001b[0m \u001b[0;34m=\u001b[0m \u001b[0msegmentOrientationList\u001b[0m\u001b[0;34m(\u001b[0m\u001b[0ms\u001b[0m\u001b[0;34m)\u001b[0m\u001b[0;34m\u001b[0m\u001b[0m\n\u001b[0;32m---> 13\u001b[0;31m \u001b[0mnp\u001b[0m\u001b[0;34m.\u001b[0m\u001b[0mhistogram\u001b[0m\u001b[0;34m(\u001b[0m\u001b[0mlh\u001b[0m\u001b[0;34m,\u001b[0m \u001b[0mbins\u001b[0m\u001b[0;34m=\u001b[0m\u001b[0;36m8\u001b[0m\u001b[0;34m)\u001b[0m\u001b[0;34m\u001b[0m\u001b[0m\n\u001b[0m",
      "\u001b[0;32m~/.local/lib/python3.6/site-packages/numpy/lib/histograms.py\u001b[0m in \u001b[0;36mhistogram\u001b[0;34m(a, bins, range, normed, weights, density)\u001b[0m\n\u001b[1;32m    708\u001b[0m     \u001b[0ma\u001b[0m\u001b[0;34m,\u001b[0m \u001b[0mweights\u001b[0m \u001b[0;34m=\u001b[0m \u001b[0m_ravel_and_check_weights\u001b[0m\u001b[0;34m(\u001b[0m\u001b[0ma\u001b[0m\u001b[0;34m,\u001b[0m \u001b[0mweights\u001b[0m\u001b[0;34m)\u001b[0m\u001b[0;34m\u001b[0m\u001b[0m\n\u001b[1;32m    709\u001b[0m \u001b[0;34m\u001b[0m\u001b[0m\n\u001b[0;32m--> 710\u001b[0;31m     \u001b[0mbin_edges\u001b[0m\u001b[0;34m,\u001b[0m \u001b[0muniform_bins\u001b[0m \u001b[0;34m=\u001b[0m \u001b[0m_get_bin_edges\u001b[0m\u001b[0;34m(\u001b[0m\u001b[0ma\u001b[0m\u001b[0;34m,\u001b[0m \u001b[0mbins\u001b[0m\u001b[0;34m,\u001b[0m \u001b[0mrange\u001b[0m\u001b[0;34m,\u001b[0m \u001b[0mweights\u001b[0m\u001b[0;34m)\u001b[0m\u001b[0;34m\u001b[0m\u001b[0m\n\u001b[0m\u001b[1;32m    711\u001b[0m \u001b[0;34m\u001b[0m\u001b[0m\n\u001b[1;32m    712\u001b[0m     \u001b[0;31m# Histogram is an integer or a float array depending on the weights.\u001b[0m\u001b[0;34m\u001b[0m\u001b[0;34m\u001b[0m\u001b[0m\n",
      "\u001b[0;32m~/.local/lib/python3.6/site-packages/numpy/lib/histograms.py\u001b[0m in \u001b[0;36m_get_bin_edges\u001b[0;34m(a, bins, range, weights)\u001b[0m\n\u001b[1;32m    361\u001b[0m             \u001b[0;32mraise\u001b[0m \u001b[0mValueError\u001b[0m\u001b[0;34m(\u001b[0m\u001b[0;34m'`bins` must be positive, when an integer'\u001b[0m\u001b[0;34m)\u001b[0m\u001b[0;34m\u001b[0m\u001b[0m\n\u001b[1;32m    362\u001b[0m \u001b[0;34m\u001b[0m\u001b[0m\n\u001b[0;32m--> 363\u001b[0;31m         \u001b[0mfirst_edge\u001b[0m\u001b[0;34m,\u001b[0m \u001b[0mlast_edge\u001b[0m \u001b[0;34m=\u001b[0m \u001b[0m_get_outer_edges\u001b[0m\u001b[0;34m(\u001b[0m\u001b[0ma\u001b[0m\u001b[0;34m,\u001b[0m \u001b[0mrange\u001b[0m\u001b[0;34m)\u001b[0m\u001b[0;34m\u001b[0m\u001b[0m\n\u001b[0m\u001b[1;32m    364\u001b[0m \u001b[0;34m\u001b[0m\u001b[0m\n\u001b[1;32m    365\u001b[0m     \u001b[0;32melif\u001b[0m \u001b[0mnp\u001b[0m\u001b[0;34m.\u001b[0m\u001b[0mndim\u001b[0m\u001b[0;34m(\u001b[0m\u001b[0mbins\u001b[0m\u001b[0;34m)\u001b[0m \u001b[0;34m==\u001b[0m \u001b[0;36m1\u001b[0m\u001b[0;34m:\u001b[0m\u001b[0;34m\u001b[0m\u001b[0m\n",
      "\u001b[0;32m~/.local/lib/python3.6/site-packages/numpy/lib/histograms.py\u001b[0m in \u001b[0;36m_get_outer_edges\u001b[0;34m(a, range)\u001b[0m\n\u001b[1;32m    259\u001b[0m         \u001b[0;32mif\u001b[0m \u001b[0;32mnot\u001b[0m \u001b[0;34m(\u001b[0m\u001b[0mnp\u001b[0m\u001b[0;34m.\u001b[0m\u001b[0misfinite\u001b[0m\u001b[0;34m(\u001b[0m\u001b[0mfirst_edge\u001b[0m\u001b[0;34m)\u001b[0m \u001b[0;32mand\u001b[0m \u001b[0mnp\u001b[0m\u001b[0;34m.\u001b[0m\u001b[0misfinite\u001b[0m\u001b[0;34m(\u001b[0m\u001b[0mlast_edge\u001b[0m\u001b[0;34m)\u001b[0m\u001b[0;34m)\u001b[0m\u001b[0;34m:\u001b[0m\u001b[0;34m\u001b[0m\u001b[0m\n\u001b[1;32m    260\u001b[0m             raise ValueError(\n\u001b[0;32m--> 261\u001b[0;31m                 \"autodetected range of [{}, {}] is not finite\".format(first_edge, last_edge))\n\u001b[0m\u001b[1;32m    262\u001b[0m \u001b[0;34m\u001b[0m\u001b[0m\n\u001b[1;32m    263\u001b[0m     \u001b[0;31m# expand empty range to avoid divide by zero\u001b[0m\u001b[0;34m\u001b[0m\u001b[0;34m\u001b[0m\u001b[0m\n",
      "\u001b[0;31mValueError\u001b[0m: autodetected range of [nan, nan] is not finite"
     ]
    }
   ],
   "source": [
    "def segmentOrientation(stroke, i):\n",
    "  si =  stroke[i+1] -stroke[i]\n",
    "  ux = [length(si), 0]\n",
    "  return arccos(si, ux)\n",
    "\n",
    "segmentOrientation(s,8)\n",
    "\n",
    "def segmentOrientationList(stroke):\n",
    "  segtO = [segmentOrientation(stroke, i) for i in range(len(stroke) -1)]\n",
    "  return segtO\n",
    "  \n",
    "lh = segmentOrientationList(s)\n",
    "np.histogram(lh, bins=8)"
   ]
  },
  {
   "cell_type": "code",
   "execution_count": null,
   "metadata": {
    "colab": {
     "base_uri": "https://localhost:8080/",
     "height": 35
    },
    "colab_type": "code",
    "executionInfo": {
     "elapsed": 1469,
     "status": "ok",
     "timestamp": 1553090778514,
     "user": {
      "displayName": "Wafa Johal",
      "photoUrl": "https://lh6.googleusercontent.com/-dSe4vNhtGJo/AAAAAAAAAAI/AAAAAAAAIHU/HpRPL_mjkKo/s64/photo.jpg",
      "userId": "02628719330545126296"
     },
     "user_tz": -60
    },
    "id": "Y_RWxHjAY01A",
    "outputId": "3927b696-c48e-4d6d-b669-ecbc68b34e3b"
   },
   "outputs": [
    {
     "data": {
      "text/plain": [
       "37.88421620455281"
      ]
     },
     "execution_count": 48,
     "metadata": {
      "tags": []
     },
     "output_type": "execute_result"
    }
   ],
   "source": [
    "(10.608436724565758 + 65.15999568453985)/2"
   ]
  },
  {
   "cell_type": "code",
   "execution_count": null,
   "metadata": {
    "colab": {},
    "colab_type": "code",
    "id": "AGVBl_KLbI6-"
   },
   "outputs": [],
   "source": [
    "  #\n",
    "  #print(curvatures)"
   ]
  }
 ],
 "metadata": {
  "accelerator": "GPU",
  "colab": {
   "collapsed_sections": [],
   "name": "StrokeFEatures",
   "provenance": [],
   "version": "0.3.2"
  },
  "kernelspec": {
   "display_name": "Python 3",
   "language": "python",
   "name": "python3"
  },
  "language_info": {
   "codemirror_mode": {
    "name": "ipython",
    "version": 3
   },
   "file_extension": ".py",
   "mimetype": "text/x-python",
   "name": "python",
   "nbconvert_exporter": "python",
   "pygments_lexer": "ipython3",
   "version": "3.6.5"
  }
 },
 "nbformat": 4,
 "nbformat_minor": 2
}
